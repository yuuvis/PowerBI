{
 "cells": [
  {
   "cell_type": "markdown",
   "metadata": {},
   "source": [
    "# yuuvis(r) Ultimate API Example\n",
    "All code is provided as is. Please use it as you see fit. \n",
    "Last update 12/09/2019\n",
    "\n",
    "In order to execute the code below you will need to subscribe to the yuuvis Ultimate API on https://yuuvis.io\n",
    "\n",
    "Please set the API_KEY variable below with your own subscription key."
   ]
  },
  {
   "cell_type": "code",
   "execution_count": null,
   "metadata": {},
   "outputs": [],
   "source": [
    "import os\n",
    "import requests\n",
    "import json"
   ]
  },
  {
   "cell_type": "markdown",
   "metadata": {},
   "source": [
    "## Function for creating the metadata file and for doing the API call"
   ]
  },
  {
   "cell_type": "code",
   "execution_count": null,
   "metadata": {},
   "outputs": [],
   "source": [
    "def post_object(file_name, cid, name, path):\n",
    "\n",
    "    #\n",
    "    # yuuvis API key\n",
    "    #\n",
    "    API_KEY = \"XXXXXXXXXXXXXXX\"\n",
    "    \n",
    "    #\n",
    "    #create meta info\n",
    "    #\n",
    "    meta_data = { \"objects\": [{\n",
    "                    \"properties\": {\n",
    "                        \"enaio:objectTypeId\": {\n",
    "                            \"value\": \"document\"\n",
    "                        },\n",
    "                        \"Name\": {\n",
    "                            \"value\": name\n",
    "                        }\n",
    "                    },\n",
    "                    \"contentStreams\": [{\n",
    "                        \"cid\": file_name\n",
    "                    }]\n",
    "                }]\n",
    "            }\n",
    "    \n",
    "    json.dumps(meta_data)\n",
    "    \n",
    "    with open(path + '\\\\metadata.json', 'w') as json_file:\n",
    "        json.dump(meta_data, json_file)\n",
    "    \n",
    "    metadata_file_path = path + \"\\\\metadata.json\"\n",
    "    \n",
    "    #\n",
    "    #prepare body and post\n",
    "    #\n",
    "    header_dict = {}\n",
    "\n",
    "    base_url = 'https://api.yuuvis.io/dms-core'\n",
    "\n",
    "    header_dict['Ocp-Apim-Subscription-Key'] = API_KEY\n",
    "\n",
    "    file_path = path + \"\\\\\" + file_name\n",
    "    \n",
    "    multipart_form_data = {\n",
    "        'data' :('metadata.json', open(metadata_file_path, 'rb'), 'application/json'),\n",
    "        cid : (file_name, open(file_path, 'rb'), 'application/pdf')\n",
    "    }\n",
    "    \n",
    "    #post\n",
    "    res = requests.post(str(base_url+'/objects'), files=multipart_form_data, headers=header_dict)\n",
    "    \n",
    "    #result code\n",
    "    print(res)\n"
   ]
  },
  {
   "cell_type": "markdown",
   "metadata": {},
   "source": [
    "## Basic directory crawler for uploading files\n"
   ]
  },
  {
   "cell_type": "code",
   "execution_count": null,
   "metadata": {},
   "outputs": [],
   "source": [
    "%%time\n",
    "\n",
    "import os\n",
    "path = '...........\\\\Documents\\\\DEV\\\\yuuvis.io\\\\DEMO_DATA\\\\'\n",
    "\n",
    "# Set the directory you want to start from\n",
    "rootDir = path\n",
    "for dirName, subdirList, fileList in os.walk(rootDir):\n",
    "    for fname in fileList:\n",
    "        print(fname, dirName)\n",
    "        \n",
    "        #post to yuuvis \n",
    "        post_object(fname, fname, \"yuuvis API demo upload\", dirName)\n",
    "        \n",
    "        print(\"\")"
   ]
  },
  {
   "cell_type": "code",
   "execution_count": null,
   "metadata": {},
   "outputs": [],
   "source": []
  },
  {
   "cell_type": "code",
   "execution_count": null,
   "metadata": {},
   "outputs": [],
   "source": []
  }
 ],
 "metadata": {
  "kernelspec": {
   "display_name": "Python 3",
   "language": "python",
   "name": "python3"
  },
  "language_info": {
   "codemirror_mode": {
    "name": "ipython",
    "version": 3
   },
   "file_extension": ".py",
   "mimetype": "text/x-python",
   "name": "python",
   "nbconvert_exporter": "python",
   "pygments_lexer": "ipython3",
   "version": "3.7.3"
  }
 },
 "nbformat": 4,
 "nbformat_minor": 4
}
